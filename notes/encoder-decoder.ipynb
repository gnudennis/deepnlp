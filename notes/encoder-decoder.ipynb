{
 "cells": [
  {
   "cell_type": "markdown",
   "id": "6536e5db",
   "metadata": {},
   "source": [
    "# 手把手学习seq2seq（上）：基于循环神经网络实现\n",
    "\n",
    "\n",
    "\n",
    "\n",
    "\n",
    "\n"
   ]
  },
  {
   "cell_type": "markdown",
   "id": "23e74830",
   "metadata": {},
   "source": [
    "序列到序列（sequence to sequence，seq2seq）类的学习任务"
   ]
  },
  {
   "cell_type": "code",
   "execution_count": null,
   "id": "2c7916c8",
   "metadata": {},
   "outputs": [],
   "source": []
  },
  {
   "cell_type": "code",
   "execution_count": null,
   "id": "fb5879f1",
   "metadata": {},
   "outputs": [],
   "source": []
  },
  {
   "cell_type": "markdown",
   "id": "b53e4aa5",
   "metadata": {
    "ExecuteTime": {
     "end_time": "2022-05-08T08:08:21.591925Z",
     "start_time": "2022-05-08T08:08:21.550715Z"
    }
   },
   "source": [
    "# 编码器-解码器架构"
   ]
  },
  {
   "cell_type": "markdown",
   "id": "2a128cef",
   "metadata": {
    "ExecuteTime": {
     "end_time": "2022-05-04T07:41:08.638795Z",
     "start_time": "2022-05-04T07:41:08.629066Z"
    }
   },
   "source": [
    "## 机器翻译\n",
    "\n",
    "机器翻译指的是将文本序列从一种语言自动翻译成另一种语言，\n",
    "是典型的*序列到序列*（sequence to sequence，seq2seq）类的学习任务。\n",
    "\n",
    "早期*统计机器翻译*（statisticalmachine translation）在这一领域一直占据主导地位，\n",
    "现代机器翻译广泛使用端到端的*神经机器翻译*（neuralmachine translation）。\n",
    "\n",
    "### BLEU\n",
    "\n",
    "BLEU（bilingual evaluation understudy, `Papineni.Roukos.Ward.ea.2002`）被广泛用于评估输出序列的质量，\n",
    "它通过测量预测序列和标签序列之间的$n$元语法的匹配度来评估预测。\n",
    "\n",
    "BLEU定义为：\n",
    "\n",
    "$$ \\exp\\left(\\min\\left(0, 1 - \\frac{\\mathrm{len}_{\\text{label}}}{\\mathrm{len}_{\\text{pred}}}\\right)\\right) \\prod_{n=1}^k p_n^{1/2^n},$$\n",
    "\n",
    "其中$\\mathrm{len}_{\\text{label}}$表示标签序列中的词元数和\n",
    "$\\mathrm{len}_{\\text{pred}}$表示预测序列中的词元数。\n",
    "$k$是用于匹配的最长的$n$元语法，$p_n$表示$n$元语法的精确度。"
   ]
  },
  {
   "cell_type": "markdown",
   "id": "49db2969",
   "metadata": {},
   "source": [
    "**示例** 给定标签序列$A$、$B$、$C$、$D$、$E$、$F$\n",
    "和预测序列$A$、$B$、$B$、$C$、$D$，\n",
    "$p_1 = 4/5$、$p_2 = 3/4$、$p_3 = 1/3$和$p_4 = 0$。\n",
    "\n",
    "* 1-gram, $A$ (match)、$B$ (match)、$B$ (match)、$C$ (match)、$D$ (match)\n",
    "* 2-gram, $AB$ (match)、$BB$ (miss)、$BC$ (match)、$CD$ (match)\n",
    "* 3-gram, $ABB$ (miss)、$BBC$ (miss)、$BCD$ (match)\n",
    "* 4-gram, $ABBC$ (miss)、$BBCD$ (miss)\n",
    "\n",
    "\n",
    "**物理意义**\n",
    "\n",
    "* 当预测序列与标签序列完全相同时，BLEU为$1$。\n",
    "* $n$元语法越长则匹配难度越大，\n",
    "  所以BLEU为更长的$n$元语法的精确度分配更大的权重。\n",
    "  * 具体来说，当$p_n$固定时，$p_n^{1/2^n}$\n",
    "    会随着$n$的增长而增加。\n",
    "* 由于预测的序列越短获得的$p_n$值越高，\n",
    "  所以公式中乘法项之前的系数用于惩罚较短的预测序列。\n",
    "  * 例如，当$k=2$时，给定标签序列$A$、$B$、$C$、$D$、$E$、$F$\n",
    "    和预测序列$A$、$B$，尽管$p_1 = p_2 = 1$，\n",
    "    惩罚因子$\\exp(1-6/2) \\approx 0.14$会降低BLEU。"
   ]
  },
  {
   "cell_type": "markdown",
   "id": "a188b484",
   "metadata": {},
   "source": [
    "## 编码器-解码器架构\n",
    "\n",
    "*编码器-解码器*（encoder-decoder）架构包含了两个主要组件，即*编码器*（encoder）和*解码器*（decoder）。\n",
    "\n",
    "<img src=\"img/encoder-decoder.svg\" width=\"50%\" height=\"50%\" align=\"left\"/>"
   ]
  },
  {
   "cell_type": "markdown",
   "id": "b4a489ca",
   "metadata": {},
   "source": [
    "* “编码器－解码器”架构可以将长度可变的序列作为输入和输出，因此适用于机器翻译等序列转换问题。\n",
    "* 编码器将长度可变的序列作为输入，并将其转换为具有固定形状的编码状态。\n",
    "* 解码器将具有固定形状的编码状态映射为长度可变的序列。"
   ]
  },
  {
   "attachments": {},
   "cell_type": "markdown",
   "id": "bf9e216f",
   "metadata": {},
   "source": [
    "## 基于循环神经网络的实现\n",
    "\n",
    "遵循编码器－解码器架构的设计原则，\n",
    "使用两个独立的循环神经网络来设计一个序列到序列学习的模型。\n",
    "\n",
    "编码器将长度可变的序列*编码*到循环神经网络编码器的隐状态（即输入序列的编码信息）中，\n",
    "解码器基于输入序列的编码信息和输出序列已经看见的或者生成的词元来预测下一个词元。\n",
    "\n",
    "<img src=\"img/seq2seq.svg\" width=\"50%\" height=\"50%\" align=\"left\"/>"
   ]
  },
  {
   "cell_type": "markdown",
   "id": "98564705",
   "metadata": {},
   "source": [
    "### Encoder\n",
    "\n",
    "假设输入序列是$x_1, \\ldots, x_T$，\n",
    "其中$x_t$是输入文本序列中的第$t$个词元。\n",
    "\n",
    "当前步$t$的隐状态\n",
    "$\\mathbf{h}_t = f(\\mathbf{x}_t, \\mathbf{h}_{t-1})$\n",
    "编码器通过选定的函数$q$。\n",
    "将所有时间步的隐状态转换为上下文变量\n",
    "$\\mathbf{c} =  q(\\mathbf{h}_1, \\ldots, \\mathbf{h}_T)$\n",
    "\n",
    "* 最简单的做法，\n",
    "  将输入序列在最后时间步的隐状态$\\mathbf{h}_T$（即 $q(\\mathbf{h}_1, \\ldots, \\mathbf{h}_T) = \\mathbf{h}_T$）作为输入序列的上下文变量。"
   ]
  },
  {
   "cell_type": "markdown",
   "id": "712f5511",
   "metadata": {},
   "source": [
    "### Decoder\n",
    "\n",
    "解码器输出$y_{t'}$的概率取决于先前的输出子序列\n",
    "$y_1, \\ldots, y_{t'-1}$和编码器的上下文变量$\\mathbf{c}$，\n",
    "即$P(y_{t'} \\mid y_1, \\ldots, y_{t'-1}, \\mathbf{c})$。\n",
    "\n",
    "使用另一个循环神经网络建模解码器。\n",
    "在输出序列上的任意时间步$t^\\prime$，\n",
    "循环神经网络将来自上一时间步的输出$y_{t^\\prime-1}$\n",
    "和上下文变量$\\mathbf{c}$作为其输入，\n",
    "然后在当前时间步将它们和上一隐状态\n",
    "$\\mathbf{s}_{t^\\prime-1}$转换为\n",
    "隐状态$\\mathbf{s}_{t^\\prime}$。\n",
    "因此，可以使用函数$g$来表示解码器的隐藏层的变换：\n",
    "\n",
    "$$\\mathbf{s}_{t^\\prime} = g(y_{t^\\prime-1}, \\mathbf{c}, \\mathbf{s}_{t^\\prime-1}).$$\n",
    "\n",
    "在获得解码器的隐状态之后，\n",
    "使用输出层和softmax操作\n",
    "来计算在时间步$t^\\prime$时输出$y_{t^\\prime}$的条件概率分布\n",
    "$P(y_{t^\\prime} \\mid y_1, \\ldots, y_{t^\\prime-1}, \\mathbf{c})$。"
   ]
  },
  {
   "cell_type": "markdown",
   "id": "2285d8ff",
   "metadata": {},
   "source": [
    "采用多层循环神经网络实现Encoder-Decoder模型\n",
    "\n",
    "<img src=\"img/seq2seq-details.svg\" width=\"35%\" height=\"35%\" align=\"left\"/>"
   ]
  },
  {
   "cell_type": "markdown",
   "id": "bc8f37b6",
   "metadata": {},
   "source": [
    "### 训练\n",
    "\n",
    "* 在机器翻译中，我们更喜欢单词级词元化（最先进的模型可能使用更高级的词元化技术）。\n",
    "* mask loss：计算损失时需要考虑剔除填充值。\n",
    "* teach force：在“编码器－解码器”训练中，通常采用强制*教学方法*将原始输出序列（而非预测结果）输入解码器。"
   ]
  },
  {
   "cell_type": "markdown",
   "id": "2e6f533e",
   "metadata": {},
   "source": [
    "### 预测：生成目标序列\n",
    "\n",
    "采用*串行*生成目标序列。\n",
    "\n",
    "* 最简单方式：从开始词元（“&lt;bos&gt;”）开始，直至遇到结束词元（“&lt;eos&gt;”）或者超过指定长度时，预测结束。\n",
    "\n",
    "* *束搜索*（beam-search）生成目标序列。\n",
    "\n",
    "\n",
    "#### 束搜索"
   ]
  },
  {
   "cell_type": "markdown",
   "id": "ba508ac9",
   "metadata": {},
   "source": []
  },
  {
   "cell_type": "markdown",
   "id": "6405ef72",
   "metadata": {},
   "source": []
  }
 ],
 "metadata": {
  "hide_input": false,
  "kernelspec": {
   "display_name": "Python 3 (ipykernel)",
   "language": "python",
   "name": "python3"
  },
  "language_info": {
   "codemirror_mode": {
    "name": "ipython",
    "version": 3
   },
   "file_extension": ".py",
   "mimetype": "text/x-python",
   "name": "python",
   "nbconvert_exporter": "python",
   "pygments_lexer": "ipython3",
   "version": "3.8.12"
  },
  "latex_envs": {
   "LaTeX_envs_menu_present": true,
   "autoclose": false,
   "autocomplete": true,
   "bibliofile": "biblio.bib",
   "cite_by": "apalike",
   "current_citInitial": 1,
   "eqLabelWithNumbers": true,
   "eqNumInitial": 1,
   "hotkeys": {
    "equation": "Ctrl-E",
    "itemize": "Ctrl-I"
   },
   "labels_anchors": false,
   "latex_user_defs": false,
   "report_style_numbering": false,
   "user_envs_cfg": false
  },
  "toc": {
   "base_numbering": 1,
   "nav_menu": {},
   "number_sections": true,
   "sideBar": true,
   "skip_h1_title": false,
   "title_cell": "Table of Contents",
   "title_sidebar": "Contents",
   "toc_cell": false,
   "toc_position": {},
   "toc_section_display": true,
   "toc_window_display": true
  },
  "varInspector": {
   "cols": {
    "lenName": 16,
    "lenType": 16,
    "lenVar": 40
   },
   "kernels_config": {
    "python": {
     "delete_cmd_postfix": "",
     "delete_cmd_prefix": "del ",
     "library": "var_list.py",
     "varRefreshCmd": "print(var_dic_list())"
    },
    "r": {
     "delete_cmd_postfix": ") ",
     "delete_cmd_prefix": "rm(",
     "library": "var_list.r",
     "varRefreshCmd": "cat(var_dic_list()) "
    }
   },
   "types_to_exclude": [
    "module",
    "function",
    "builtin_function_or_method",
    "instance",
    "_Feature"
   ],
   "window_display": false
  }
 },
 "nbformat": 4,
 "nbformat_minor": 5
}
