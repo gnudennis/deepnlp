{
 "cells": [
  {
   "attachments": {},
   "cell_type": "markdown",
   "id": "26df70ce",
   "metadata": {},
   "source": [
    "# 情感分析：使用循环神经网络\n",
    "\n",
    "在文本分类任务（如情感分析）中，可变长度的文本序列将被转换为固定长度的类别。\n",
    "\n",
    "对于小数据集，使用在大规模语料库上预训练的文本表示可以减少模型的过拟合。\n",
    "\n",
    "<img src=\"img/nlp-map-sa-rnn.svg\" width=\"40%\" height=\"40%\" align=\"left\"/>"
   ]
  },
  {
   "cell_type": "markdown",
   "id": "0f7d2a27",
   "metadata": {
    "ExecuteTime": {
     "end_time": "2022-05-03T13:38:58.203595Z",
     "start_time": "2022-05-03T13:38:58.183673Z"
    }
   },
   "source": [
    "双向循环神经网络来表示单个文本以进行情感分析。\n",
    "- Encoder。使用GloVe embedding层，后接入BiLSTM对整个序列进行编码，输出文本序列表示。\n",
    "- Decoder。通过连结初始和最终时间步的隐状态，可以使用全连接的层将该单个文本表示转换为类别。"
   ]
  },
  {
   "cell_type": "code",
   "execution_count": null,
   "id": "5663e9f7",
   "metadata": {},
   "outputs": [],
   "source": []
  }
 ],
 "metadata": {
  "hide_input": false,
  "kernelspec": {
   "display_name": "Python 3 (ipykernel)",
   "language": "python",
   "name": "python3"
  },
  "language_info": {
   "codemirror_mode": {
    "name": "ipython",
    "version": 3
   },
   "file_extension": ".py",
   "mimetype": "text/x-python",
   "name": "python",
   "nbconvert_exporter": "python",
   "pygments_lexer": "ipython3",
   "version": "3.8.12"
  },
  "latex_envs": {
   "LaTeX_envs_menu_present": true,
   "autoclose": false,
   "autocomplete": true,
   "bibliofile": "biblio.bib",
   "cite_by": "apalike",
   "current_citInitial": 1,
   "eqLabelWithNumbers": true,
   "eqNumInitial": 1,
   "hotkeys": {
    "equation": "Ctrl-E",
    "itemize": "Ctrl-I"
   },
   "labels_anchors": false,
   "latex_user_defs": false,
   "report_style_numbering": false,
   "user_envs_cfg": false
  },
  "toc": {
   "base_numbering": 1,
   "nav_menu": {},
   "number_sections": true,
   "sideBar": true,
   "skip_h1_title": false,
   "title_cell": "Table of Contents",
   "title_sidebar": "Contents",
   "toc_cell": false,
   "toc_position": {},
   "toc_section_display": true,
   "toc_window_display": false
  },
  "varInspector": {
   "cols": {
    "lenName": 16,
    "lenType": 16,
    "lenVar": 40
   },
   "kernels_config": {
    "python": {
     "delete_cmd_postfix": "",
     "delete_cmd_prefix": "del ",
     "library": "var_list.py",
     "varRefreshCmd": "print(var_dic_list())"
    },
    "r": {
     "delete_cmd_postfix": ") ",
     "delete_cmd_prefix": "rm(",
     "library": "var_list.r",
     "varRefreshCmd": "cat(var_dic_list()) "
    }
   },
   "types_to_exclude": [
    "module",
    "function",
    "builtin_function_or_method",
    "instance",
    "_Feature"
   ],
   "window_display": false
  }
 },
 "nbformat": 4,
 "nbformat_minor": 5
}
